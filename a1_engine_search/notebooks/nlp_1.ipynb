{
 "cells": [
  {
   "cell_type": "markdown",
   "metadata": {},
   "source": [
    "# Task 1: Preparation and Training"
   ]
  },
  {
   "cell_type": "code",
   "execution_count": 1,
   "metadata": {},
   "outputs": [
    {
     "name": "stdout",
     "output_type": "stream",
     "text": [
      "[nltk_data] Downloading package brown to /home/jupyter-\n",
      "[nltk_data]     st125457/nltk_data...\n",
      "[nltk_data]   Package brown is already up-to-date!\n",
      "'Len of sentences in news categories: 4623'\n",
      "voc_size : 13113\n",
      "Epoch   1000 | Loss: 8.710139\n",
      "Epoch   2000 | Loss: 9.858974\n",
      "Epoch   3000 | Loss: 9.525756\n",
      "Epoch   4000 | Loss: 8.917377\n",
      "Epoch   5000 | Loss: 9.848055\n",
      "Training complete in 25m 26s\n"
     ]
    }
   ],
   "source": [
    "!python skipgram.py"
   ]
  },
  {
   "cell_type": "code",
   "execution_count": 5,
   "metadata": {},
   "outputs": [
    {
     "name": "stdout",
     "output_type": "stream",
     "text": [
      "[nltk_data] Downloading package brown to /home/jupyter-\n",
      "[nltk_data]     st125457/nltk_data...\n",
      "[nltk_data]   Package brown is already up-to-date!\n",
      "'Len of sentences in news categories: 4623'\n",
      "100554\n",
      "voc_size : 13113\n",
      "Epoch   1000 | Loss: 4.898226\n",
      "Epoch   2000 | Loss: 4.193873\n",
      "Epoch   3000 | Loss: 4.071335\n",
      "Epoch   4000 | Loss: 4.201063\n",
      "Epoch   5000 | Loss: 4.503699\n",
      "Training complete in 43m 53s\n"
     ]
    }
   ],
   "source": [
    "!python negative_sampling.py"
   ]
  },
  {
   "cell_type": "code",
   "execution_count": 1,
   "metadata": {},
   "outputs": [
    {
     "name": "stdout",
     "output_type": "stream",
     "text": [
      "[nltk_data] Downloading package brown to /home/jupyter-\n",
      "[nltk_data]     st125457/nltk_data...\n",
      "[nltk_data]   Package brown is already up-to-date!\n",
      "'Len of sentences in news categories: 4623'\n",
      "Vocabulary size: 13113\n",
      "Epoch   1000 | Loss: 5.752577\n",
      "Epoch   2000 | Loss: 24.504128\n",
      "Epoch   3000 | Loss: 2.692426\n",
      "Epoch   4000 | Loss: 0.891522\n",
      "Epoch   5000 | Loss: 0.480459\n",
      "Training complete in 5m 49s\n"
     ]
    }
   ],
   "source": [
    "!python glove.py"
   ]
  },
  {
   "cell_type": "markdown",
   "metadata": {},
   "source": [
    "# Task 2: Model Comparison and Analysis"
   ]
  },
  {
   "cell_type": "markdown",
   "metadata": {},
   "source": [
    " Compare Skip-gram, Skip-gram negative sampling, GloVe models on training loss, training time"
   ]
  },
  {
   "cell_type": "code",
   "execution_count": 1,
   "metadata": {},
   "outputs": [],
   "source": [
    "import nltk\n",
    "# nltk.download('brown')\n",
    "from nltk.corpus import brown\n",
    "\n",
    "corpus_token = brown.sents(categories=\"news\")\n",
    "corpus = [[word.lower() for word in sent] for sent in corpus_token]\n",
    "\n",
    "flatten = lambda l: [word for sent in l for word in sent]\n",
    "vocab = list(set(flatten(corpus)))\n",
    "\n",
    "word2index = {k:v for k, v in enumerate(vocab)}\n",
    "\n",
    "vocab.append(\"<UNK>\")\n",
    "word2index[\"<UNK>\"] = len(vocab) - 1\n",
    "\n",
    "voc_size = len(vocab)"
   ]
  },
  {
   "cell_type": "code",
   "execution_count": 2,
   "metadata": {},
   "outputs": [
    {
     "name": "stdout",
     "output_type": "stream",
     "text": [
      "skipgram.pth\n"
     ]
    },
    {
     "name": "stderr",
     "output_type": "stream",
     "text": [
      "/tmp/ipykernel_940995/931619922.py:18: FutureWarning: You are using `torch.load` with `weights_only=False` (the current default value), which uses the default pickle module implicitly. It is possible to construct malicious pickle data which will execute arbitrary code during unpickling (See https://github.com/pytorch/pytorch/blob/main/SECURITY.md#untrusted-models for more details). In a future release, the default value for `weights_only` will be flipped to `True`. This limits the functions that could be executed during unpickling. Arbitrary objects will no longer be allowed to be loaded via this mode unless they are explicitly allowlisted by the user via `torch.serialization.add_safe_globals`. We recommend you start setting `weights_only=True` for any use case where you don't have full control of the loaded file. Please open an issue on GitHub for any issues related to this experimental feature.\n",
      "  state_dict = torch.load(model_path)\n"
     ]
    },
    {
     "name": "stdout",
     "output_type": "stream",
     "text": [
      "glove.pth\n",
      "negative_sampling.pth\n"
     ]
    },
    {
     "data": {
      "text/plain": [
       "[Skipgram(\n",
       "   (embedding_center): Embedding(13113, 2)\n",
       "   (embedding_outside): Embedding(13113, 2)\n",
       " ),\n",
       " Glove(\n",
       "   (embedding_v): Embedding(13113, 2)\n",
       "   (embedding_u): Embedding(13113, 2)\n",
       "   (v_bias): Embedding(13113, 1)\n",
       "   (u_bias): Embedding(13113, 1)\n",
       " ),\n",
       " NegativeSampling(\n",
       "   (embedding_u): Embedding(13113, 2)\n",
       "   (embedding_v): Embedding(13113, 2)\n",
       "   (logsigmoid): LogSigmoid()\n",
       " )]"
      ]
     },
     "execution_count": 2,
     "metadata": {},
     "output_type": "execute_result"
    }
   ],
   "source": [
    "import os\n",
    "import torch\n",
    "from models import Skipgram, NegativeSampling, Glove\n",
    "\n",
    "embedding_size = 2\n",
    "\n",
    "skipgram = Skipgram(voc_size, embedding_size)\n",
    "neg_sample = NegativeSampling(voc_size, embedding_size)\n",
    "glove = Glove(voc_size, embedding_size)\n",
    "\n",
    "all_models = [skipgram, glove, neg_sample]\n",
    "\n",
    "model_dir = 'model_zoo'\n",
    "for i, model_name in enumerate(os.listdir(model_dir)):\n",
    "    if '.pth' in model_name:\n",
    "        print(model_name)\n",
    "        model_path = os.path.join(model_dir, model_name)\n",
    "        state_dict = torch.load(model_path)\n",
    "        all_models[i].load_state_dict(state_dict)\n",
    "    \n",
    "all_models"
   ]
  },
  {
   "cell_type": "code",
   "execution_count": 3,
   "metadata": {},
   "outputs": [
    {
     "name": "stdout",
     "output_type": "stream",
     "text": [
      "[['athens', 'greece', 'baghdad', 'iraq'], ['athens', 'greece', 'bangkok', 'thailand'], ['athens', 'greece', 'beijing', 'china'], ['athens', 'greece', 'berlin', 'germany'], ['athens', 'greece', 'bern', 'switzerland']] [['dancing', 'danced', 'decreasing', 'decreased'], ['dancing', 'danced', 'describing', 'described'], ['dancing', 'danced', 'enhancing', 'enhanced'], ['dancing', 'danced', 'falling', 'fell'], ['dancing', 'danced', 'feeding', 'fed']]\n",
      "8363 1559\n"
     ]
    }
   ],
   "source": [
    "import numpy as np\n",
    "\n",
    "with open(\"word-test.v1.txt\", 'r') as f:\n",
    "    text = f.readlines()\n",
    "\n",
    "text\n",
    "# semantic\n",
    "semantic = text[1:8368]\n",
    "\n",
    "# syntactic\n",
    "syntactic = text[15794:17354]\n",
    "\n",
    "def process_data(data):\n",
    "    corpus = []\n",
    "    for line in data:\n",
    "        if line.startswith(':'):\n",
    "            continue\n",
    "        corpus.append([w.lower() for w in line.strip().split()])\n",
    "    return corpus\n",
    "\n",
    "semantic_data = process_data(semantic)\n",
    "syntactic_data = process_data(syntactic)\n",
    "\n",
    "print(semantic_data[:5], syntactic_data[:5])\n",
    "\n",
    "print(len(semantic_data), len(syntactic_data))\n",
    "\n",
    "combined_data = semantic_data + syntactic_data"
   ]
  },
  {
   "cell_type": "code",
   "execution_count": 4,
   "metadata": {},
   "outputs": [
    {
     "data": {
      "text/plain": [
       "443"
      ]
     },
     "execution_count": 4,
     "metadata": {},
     "output_type": "execute_result"
    }
   ],
   "source": [
    "flatten = lambda l: [w for sent in l for w in sent]\n",
    "vocabs = list(set(flatten(combined_data)))\n",
    "\n",
    "word2index = {k:v for k,v in enumerate(vocabs)}\n",
    "vocabs.append(\"<UNK>\")\n",
    "word2index[\"<UNK>\"] = len(vocabs) - 1\n",
    "\n",
    "voc_size = len(vocabs)\n",
    "voc_size"
   ]
  },
  {
   "cell_type": "code",
   "execution_count": 7,
   "metadata": {},
   "outputs": [
    {
     "name": "stdout",
     "output_type": "stream",
     "text": [
      "semantic_data:  ('Skipgram', 0.0)\n",
      "semantic_data:  ('Glove', 0.0)\n",
      "semantic_data:  ('NegativeSampling', 0.0)\n",
      "syntactic_data:  ('Skipgram', 0.025016035920461834)\n",
      "syntactic_data:  ('Glove', 0.025016035920461834)\n",
      "syntactic_data:  ('NegativeSampling', 0.025016035920461834)\n",
      "Combined_data:  ('Skipgram', 0.003930659141302157)\n",
      "Combined_data:  ('Glove', 0.003930659141302157)\n",
      "Combined_data:  ('NegativeSampling', 0.003930659141302157)\n"
     ]
    }
   ],
   "source": [
    "from utils import *\n",
    "import numpy as np\n",
    "from numpy.linalg import norm\n",
    "\n",
    "def get_embed(model, word, word2index):\n",
    "    index = word2index.get(word, word2index['<UNK>'])\n",
    "        \n",
    "    word = torch.LongTensor([index])\n",
    "\n",
    "    if hasattr(model, 'embedding_center'):\n",
    "        embed = (model.embedding_center(word) + model.embedding_outside(word)) / 2\n",
    "    else:\n",
    "        embed = (model.embedding_v(word) + model.embedding_u(word)) / 2\n",
    "\n",
    "    return np.array(embed[0].detach().numpy())\n",
    "\n",
    "def search_similarity(model, words, word2index, vocabs):\n",
    "    accuracy = 0\n",
    "    nw = len(words)\n",
    "    model_name = model.__class__.__name__\n",
    "\n",
    "    vocab_embeddings = {vocab: get_embed(model, vocab, word2index) for vocab in vocabs}\n",
    "\n",
    "    for word in words:\n",
    "        word1, word2, word3, word4 = word\n",
    "        emb_a = get_embed(model, word1, word2index)\n",
    "        emb_b = get_embed(model, word2, word2index)\n",
    "        emb_c = get_embed(model, word3, word2index)\n",
    "        \n",
    "        vector = emb_b - emb_a + emb_c\n",
    "        best_pred = None\n",
    "        best_similarity = -1\n",
    "        \n",
    "        for vocab, vocab_emb in vocab_embeddings.items():\n",
    "            if vocab not in [word1, word2, word3]:\n",
    "                current_sim = cos_sim_np(vector, vocab_emb)\n",
    "                if current_sim > best_similarity:\n",
    "                    best_similarity = current_sim\n",
    "                    best_pred = vocab\n",
    "    \n",
    "        accuracy += 1 if best_pred == word4 else 0\n",
    "\n",
    "    avg_acc = accuracy / nw\n",
    "    return model_name, avg_acc\n",
    "    \n",
    "for model in all_models:\n",
    "    result = search_similarity(model, semantic_data, word2index, vocabs)\n",
    "    print(\"semantic_data: \", result)\n",
    "\n",
    "for model in all_models:\n",
    "    result = search_similarity(model, syntactic_data, word2index, vocabs)\n",
    "    print(\"syntactic_data: \", result)\n",
    "\n",
    "for model in all_models:\n",
    "    result = search_similarity(model, combined_data, word2index, vocabs)\n",
    "    print(\"Combined_data: \", result)"
   ]
  },
  {
   "cell_type": "code",
   "execution_count": 9,
   "metadata": {},
   "outputs": [
    {
     "name": "stdout",
     "output_type": "stream",
     "text": [
      "combined_data: 0.45686353557750453\n",
      "semantic_data: 0.47219897166088726\n",
      "syntactic_data: 0.37459910198845414\n"
     ]
    }
   ],
   "source": [
    "# Gensim\n",
    "from gensim.test.utils import datapath\n",
    "from gensim.models import KeyedVectors\n",
    "from gensim.scripts.glove2word2vec import glove2word2vec\n",
    "\n",
    "glove_file = 'glove.6B.50d.txt'\n",
    "model = KeyedVectors.load_word2vec_format(glove_file, binary=False, no_header=True)\n",
    "\n",
    "def search_gensim(model, words):\n",
    "    tot_acc = 0\n",
    "    nw = len(words)\n",
    "\n",
    "    for word in words:\n",
    "        word1, word2, word3, word4 = word\n",
    "        result = model.most_similar(positive=[word3, word2], negative=[word1])\n",
    "        tot_acc += 1 if result[0][0] == word4 else 0\n",
    "\n",
    "    avg_acc = tot_acc / nw\n",
    "    return avg_acc\n",
    "\n",
    "results = search_gensim(model, combined_data)\n",
    "print(f'combined_data: {results}')\n",
    "\n",
    "semantic_data = search_gensim(model, semantic_data)\n",
    "print(f'semantic_data: {semantic_data}')\n",
    "\n",
    "syntactic_data = search_gensim(model, syntactic_data)\n",
    "print(f'syntactic_data: {syntactic_data}')"
   ]
  },
  {
   "cell_type": "markdown",
   "metadata": {},
   "source": [
    "Use the similarity dataset4 to find the correlation between your models’ dot product and the provided\n",
    " similarity metrics. (from scipy.stats import spearmanr) Assess if your embeddings correlate with\n",
    " human judgment. (1 points)"
   ]
  },
  {
   "cell_type": "code",
   "execution_count": 21,
   "metadata": {},
   "outputs": [
    {
     "name": "stderr",
     "output_type": "stream",
     "text": [
      "/tmp/ipykernel_940995/177488539.py:46: DeprecationWarning: Call to deprecated `word_vec` (Use get_vector instead).\n",
      "  gen_sim.word_vec(row[0]),\n",
      "/tmp/ipykernel_940995/177488539.py:47: DeprecationWarning: Call to deprecated `word_vec` (Use get_vector instead).\n",
      "  gen_sim.word_vec(row[1])\n"
     ]
    }
   ],
   "source": [
    "with open('wordsim_relatedness_goldstandard.txt', 'r') as f:\n",
    "    data = f.readlines()\n",
    "\n",
    "def process_data(data):\n",
    "    corpus = []\n",
    "    for line in data:\n",
    "        if line.startswith(':'):\n",
    "            continue\n",
    "        corpus.append([w.lower() for w in line.strip().split()])\n",
    "    return corpus\n",
    "\n",
    "gold_data = process_data(data)\n",
    "\n",
    "def get_embed(model, word, word2index):\n",
    "    index = word2index.get(word, word2index['<UNK>'])\n",
    "        \n",
    "    word = torch.LongTensor([index])\n",
    "\n",
    "    if hasattr(model, 'embedding_center'):\n",
    "        embed = (model.embedding_center(word) + model.embedding_outside(word)) / 2\n",
    "    else:\n",
    "        embed = (model.embedding_v(word) + model.embedding_u(word)) / 2\n",
    "\n",
    "    return np.array(embed[0].detach().numpy())\n",
    "\n",
    "np_gold = np.array(gold_data)\n",
    "wordsim = {}\n",
    "\n",
    "for idx, model in enumerate(all_models):\n",
    "    model_name = model.__class__.__name__\n",
    "    wordsim[model_name] = [\n",
    "        np.dot(\n",
    "            get_embed(model, row[0], word2index),\n",
    "            get_embed(model, row[1], word2index)\n",
    "        )\n",
    "        for row in np_gold\n",
    "    ]\n",
    "\n",
    "# wordsim\n",
    "\n",
    "glove_file = 'glove.6B.50d.txt'\n",
    "gen_sim = KeyedVectors.load_word2vec_format(glove_file, binary=False, no_header=True)\n",
    "\n",
    "wordsim_gen = [\n",
    "    np.dot(\n",
    "        gen_sim.word_vec(row[0]),\n",
    "        gen_sim.word_vec(row[1])\n",
    "    )\n",
    "    for row in np_gold\n",
    "]"
   ]
  },
  {
   "cell_type": "code",
   "execution_count": 24,
   "metadata": {},
   "outputs": [
    {
     "name": "stdout",
     "output_type": "stream",
     "text": [
      "Skipgram:\n",
      "Spearman correlation: nan\n",
      "P-value: nan\n",
      "Glove:\n",
      "Spearman correlation: nan\n",
      "P-value: nan\n",
      "NegativeSampling:\n",
      "Spearman correlation: nan\n",
      "P-value: nan\n",
      "Gensim: \n",
      "Spearman correlation: 0.4763288136072529\n",
      "P-value: 1.119858688913286e-15\n",
      "Y_true: \n",
      "Spearman correlation: 1.0\n",
      "P-value: 0.0\n"
     ]
    },
    {
     "name": "stderr",
     "output_type": "stream",
     "text": [
      "/tmp/ipykernel_940995/1811239402.py:6: ConstantInputWarning: An input array is constant; the correlation coefficient is not defined.\n",
      "  corr_coef, p_value = spearmanr(corr_gold_data, wordsim[ws])\n"
     ]
    }
   ],
   "source": [
    "from scipy.stats import spearmanr\n",
    "\n",
    "corr_gold_data = [float(data[-1]) for data in gold_data]\n",
    "\n",
    "for idx, ws in enumerate(wordsim.keys()):\n",
    "    corr_coef, p_value = spearmanr(corr_gold_data, wordsim[ws])\n",
    "    print(f\"{all_models[idx].__class__.__name__}:\")\n",
    "    print(f\"Spearman correlation: {corr_coef}\")\n",
    "    print(f\"P-value: {p_value}\")\n",
    "\n",
    "corr_coef, p_value = spearmanr(corr_gold_data, wordsim_gen)\n",
    "print(f\"Gensim: \")\n",
    "print(f\"Spearman correlation: {corr_coef}\")\n",
    "print(f\"P-value: {p_value}\")\n",
    "\n",
    "corr_coef, p_value = spearmanr(corr_gold_data, corr_gold_data)\n",
    "print(f\"Y_true: \")\n",
    "print(f\"Spearman correlation: {corr_coef}\")\n",
    "print(f\"P-value: {p_value}\")"
   ]
  },
  {
   "cell_type": "markdown",
   "metadata": {},
   "source": [
    "**Train models**\n",
    "|   Model      |   Window Size   |   Training Loss   |   Training time   |   Syntactic Accuracy   |   Semantic Accuracy    |\n",
    "|--------------|-----------------|-------------------|-------------------|------------------------|------------------------|\n",
    "|  Skipgram    |       2         |    9.525756       |      25m 26s      |           0            |          0             |\n",
    "|Skipgram (Neg)|       2         |    2.071335       |      43m 53s      |           0            |          0             |\n",
    "|    Glove     |       2         |    0.480459       |      58m 23s      |           0            |          0             |\n",
    "|Glove (Gensim)|      10         |        -          |         -         |          0.745         |         0.375          |\n",
    "\n",
    "**Spearman correlation**\n",
    "| Model           | Skipgram | NEG    | GloVe  | GloVe (gensim) | Y_true |\n",
    "|-----------------|----------|--------|--------|----------------|--------|\n",
    "|   Correlation   |    nan   |    nan |    nan |      0.47      |  1.0   |"
   ]
  }
 ],
 "metadata": {
  "kernelspec": {
   "display_name": "Python 3 (ipykernel)",
   "language": "python",
   "name": "python3"
  },
  "language_info": {
   "codemirror_mode": {
    "name": "ipython",
    "version": 3
   },
   "file_extension": ".py",
   "mimetype": "text/x-python",
   "name": "python",
   "nbconvert_exporter": "python",
   "pygments_lexer": "ipython3",
   "version": "3.9.19"
  }
 },
 "nbformat": 4,
 "nbformat_minor": 4
}
